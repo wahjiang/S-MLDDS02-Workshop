{
 "cells": [
  {
   "cell_type": "code",
   "execution_count": 1,
   "metadata": {
    "collapsed": true
   },
   "outputs": [],
   "source": [
    "# 1) pip install selenium\n",
    "# 2) a) windows: https://sites.google.com/a/chromium.org/chromedriver/downloads\n",
    "# 2) b) brew install chromedriver\n",
    "\n",
    "from bs4 import BeautifulSoup\n",
    "from selenium import webdriver"
   ]
  },
  {
   "cell_type": "code",
   "execution_count": 2,
   "metadata": {},
   "outputs": [],
   "source": [
    "driver = webdriver.Chrome()"
   ]
  },
  {
   "cell_type": "code",
   "execution_count": 3,
   "metadata": {},
   "outputs": [],
   "source": [
    "driver.get('https://ecovacssz.world.tmall.com/search.htm?spm=a1z10.3-b-s.w5001-14989492063.4.55e06da1cI1RUr&scene=taobao_shop')\n",
    "html = driver.page_source"
   ]
  },
  {
   "cell_type": "code",
   "execution_count": null,
   "metadata": {},
   "outputs": [],
   "source": [
    "soup = BeautifulSoup(html)\n",
    "itemlines = soup.find_all(\"div\",{\"class\":\"item4line1\"})\n",
    "for line in itemlines:\n",
    "    items = line.find_all(\"dl\",{\"class\":\"item\"})\n",
    "    for item in items:\n",
    "        print item.find(\"span\",{\"class\":\"sale-num\"}).text"
   ]
  },
  {
   "cell_type": "code",
   "execution_count": null,
   "metadata": {
    "collapsed": true
   },
   "outputs": [],
   "source": []
  }
 ],
 "metadata": {
  "kernelspec": {
   "display_name": "Python 2",
   "language": "python",
   "name": "python2"
  },
  "language_info": {
   "codemirror_mode": {
    "name": "ipython",
    "version": 2
   },
   "file_extension": ".py",
   "mimetype": "text/x-python",
   "name": "python",
   "nbconvert_exporter": "python",
   "pygments_lexer": "ipython2",
   "version": "2.7.14"
  }
 },
 "nbformat": 4,
 "nbformat_minor": 2
}
