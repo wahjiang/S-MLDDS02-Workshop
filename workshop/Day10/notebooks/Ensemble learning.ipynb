{
 "cells": [
  {
   "cell_type": "markdown",
   "metadata": {},
   "source": [
    "### Trying out AdaBoost classifier\n",
    "https://www.youtube.com/watch?v=ix6IvwbVpw0\n",
    "\n",
    "- When random subsets of the dataset are drawn as random subsets of the samples, then this algorithm is known as Pasting.\n",
    "- When samples are drawn with replacement, then the method is known as Bagging\n",
    "- When random subsets of the dataset are drawn as random subsets of the features, then the method is known as Random Subspaces\n",
    "- Finally, when base estimators are built on subsets of both samples and features, then the method is known as Random Patches"
   ]
  },
  {
   "cell_type": "code",
   "execution_count": 1,
   "metadata": {},
   "outputs": [
    {
     "data": {
      "text/plain": [
       "0.95996732026143794"
      ]
     },
     "execution_count": 1,
     "metadata": {},
     "output_type": "execute_result"
    }
   ],
   "source": [
    "from sklearn.model_selection import cross_val_score\n",
    "from sklearn.datasets import load_iris\n",
    "from sklearn.ensemble import AdaBoostClassifier\n",
    "\n",
    "iris = load_iris()\n",
    "clf = AdaBoostClassifier(n_estimators=100)\n",
    "scores = cross_val_score(clf, iris.data, iris.target)\n",
    "scores.mean()"
   ]
  },
  {
   "cell_type": "markdown",
   "metadata": {},
   "source": [
    "### Random forest"
   ]
  },
  {
   "cell_type": "code",
   "execution_count": 2,
   "metadata": {},
   "outputs": [
    {
     "data": {
      "text/plain": [
       "0.95343137254901966"
      ]
     },
     "execution_count": 2,
     "metadata": {},
     "output_type": "execute_result"
    }
   ],
   "source": [
    "from sklearn.ensemble import RandomForestClassifier\n",
    "clf = RandomForestClassifier(n_estimators=100)\n",
    "scores = cross_val_score(clf, iris.data, iris.target)\n",
    "scores.mean()"
   ]
  },
  {
   "cell_type": "markdown",
   "metadata": {},
   "source": [
    "### Voting"
   ]
  },
  {
   "cell_type": "code",
   "execution_count": 32,
   "metadata": {},
   "outputs": [
    {
     "name": "stdout",
     "output_type": "stream",
     "text": [
      "Accuracy: 0.90 (+/- 0.05) [Logistic Regression]\n",
      "Accuracy: 0.93 (+/- 0.05) [Random Forest]\n",
      "Accuracy: 0.91 (+/- 0.04) [naive Bayes]\n",
      "Accuracy: 0.95 (+/- 0.05) [Ensemble]\n"
     ]
    }
   ],
   "source": [
    "from sklearn import datasets\n",
    "from sklearn.model_selection import cross_val_score\n",
    "from sklearn.linear_model import LogisticRegression\n",
    "from sklearn.naive_bayes import GaussianNB\n",
    "from sklearn.ensemble import RandomForestClassifier\n",
    "from sklearn.ensemble import VotingClassifier\n",
    "\n",
    "iris = datasets.load_iris()\n",
    "X, y = iris.data[:, 1:3], iris.target\n",
    "\n",
    "clf1 = LogisticRegression(random_state=1)\n",
    "clf2 = RandomForestClassifier(random_state=1)\n",
    "clf3 = GaussianNB()\n",
    "\n",
    "eclf = VotingClassifier(estimators=[('lr', clf1), ('rf', clf2), ('gnb', clf3)], voting='hard')\n",
    "\n",
    "for clf, label in zip([clf1, clf2, clf3, eclf], ['Logistic Regression', 'Random Forest', 'naive Bayes', 'Ensemble']):\n",
    "    scores = cross_val_score(clf, X, y, cv=5, scoring='accuracy')\n",
    "    print(\"Accuracy: %0.2f (+/- %0.2f) [%s]\" % (scores.mean(), scores.std(), label))"
   ]
  },
  {
   "cell_type": "markdown",
   "metadata": {},
   "source": [
    "### Testing the Breast cancer dataset"
   ]
  },
  {
   "cell_type": "code",
   "execution_count": 22,
   "metadata": {},
   "outputs": [
    {
     "name": "stdout",
     "output_type": "stream",
     "text": [
      "Accuracy = 83.3333333333 %\n",
      "Classification Report \n",
      "              precision    recall  f1-score   support\n",
      "\n",
      "        car       1.00      1.00      1.00         2\n",
      "        fad       0.00      0.00      0.00         0\n",
      "        mas       0.00      0.00      0.00         0\n",
      "        gla       0.00      0.00      0.00         1\n",
      "        con       1.00      1.00      1.00         1\n",
      "        adi       1.00      1.00      1.00         2\n",
      "\n",
      "avg / total       0.83      0.83      0.83         6\n",
      "\n"
     ]
    }
   ],
   "source": [
    "import numpy as np\n",
    "import pandas as pd\n",
    "from sklearn import svm\n",
    "from sklearn import tree\n",
    "from sklearn.naive_bayes import MultinomialNB\n",
    "\n",
    "dataset = pd.read_excel('./BreastTissue.xls','Data')\n",
    "dataset.drop(dataset.columns[0],inplace=True,axis=1)\n",
    "\n",
    "data = dataset.iloc[:, 1:]\n",
    "target = dataset.iloc[:, :1]\n",
    "normalized_data = (data-data.min())/(data.max()-data.min())\n",
    "from sklearn.cross_validation import train_test_split\n",
    "x_train, x_test, y_train, y_test = train_test_split(normalized_data, target, test_size=0.05, random_state=42)\n",
    "\n",
    "clf = tree.DecisionTreeClassifier()\n",
    "clf.fit(x_train,y_train)\n",
    "\n",
    "from sklearn.metrics import accuracy_score, classification_report\n",
    "y_predicted = clf.predict(x_test)\n",
    "print \"Accuracy = {} %\".format(accuracy_score(y_test, y_predicted)*100)\n",
    "print \"Classification Report \\n {}\".format(classification_report(y_test, y_predicted, labels=dataset.Class.unique()))"
   ]
  },
  {
   "cell_type": "code",
   "execution_count": 23,
   "metadata": {},
   "outputs": [
    {
     "name": "stdout",
     "output_type": "stream",
     "text": [
      "Accuracy = 66.6666666667 %\n",
      "Classification Report \n",
      "              precision    recall  f1-score   support\n",
      "\n",
      "        car       1.00      1.00      1.00         2\n",
      "        fad       0.00      0.00      0.00         0\n",
      "        mas       0.00      0.00      0.00         0\n",
      "        gla       0.00      0.00      0.00         1\n",
      "        con       0.00      0.00      0.00         1\n",
      "        adi       0.50      1.00      0.67         2\n",
      "\n",
      "avg / total       0.50      0.67      0.56         6\n",
      "\n"
     ]
    }
   ],
   "source": [
    "import numpy as np\n",
    "import pandas as pd\n",
    "from sklearn import svm\n",
    "from sklearn import tree\n",
    "from sklearn.naive_bayes import MultinomialNB\n",
    "\n",
    "dataset = pd.read_excel('./BreastTissue.xls','Data')\n",
    "dataset.drop(dataset.columns[0],inplace=True,axis=1)\n",
    "\n",
    "data = dataset.iloc[:, 1:]\n",
    "target = dataset.iloc[:, :1]\n",
    "normalized_data = (data-data.min())/(data.max()-data.min())\n",
    "\n",
    "from sklearn.cross_validation import train_test_split\n",
    "x_train, x_test, y_train, y_test = train_test_split(normalized_data, target, test_size=0.05, random_state=42)\n",
    "\n",
    "clf = MultinomialNB()\n",
    "clf.fit(x_train,y_train)\n",
    "\n",
    "from sklearn.metrics import accuracy_score, classification_report\n",
    "y_predicted = clf.predict(x_test)\n",
    "print \"Accuracy = {} %\".format(accuracy_score(y_test, y_predicted)*100)\n",
    "print \"Classification Report \\n {}\".format(classification_report(y_test, y_predicted, labels=dataset.Class.unique()))"
   ]
  },
  {
   "cell_type": "code",
   "execution_count": 24,
   "metadata": {},
   "outputs": [
    {
     "name": "stderr",
     "output_type": "stream",
     "text": [
      "/usr/local/Cellar/ipython@5/5.5.0_1/libexec/vendor/lib/python2.7/site-packages/ipykernel_launcher.py:16: DataConversionWarning: A column-vector y was passed when a 1d array was expected. Please change the shape of y to (n_samples,), for example using ravel().\n",
      "  app.launch_new_instance()\n"
     ]
    },
    {
     "name": "stdout",
     "output_type": "stream",
     "text": [
      "Accuracy = 83.3333333333 %\n",
      "Classification Report \n",
      "              precision    recall  f1-score   support\n",
      "\n",
      "        car       1.00      1.00      1.00         2\n",
      "        fad       0.00      0.00      0.00         0\n",
      "        mas       0.00      0.00      0.00         0\n",
      "        gla       0.00      0.00      0.00         1\n",
      "        con       1.00      1.00      1.00         1\n",
      "        adi       1.00      1.00      1.00         2\n",
      "\n",
      "avg / total       0.83      0.83      0.83         6\n",
      "\n"
     ]
    }
   ],
   "source": [
    "import numpy as np\n",
    "import pandas as pd\n",
    "from sklearn.ensemble import RandomForestClassifier\n",
    "\n",
    "dataset = pd.read_excel('./BreastTissue.xls','Data')\n",
    "dataset.drop(dataset.columns[0],inplace=True,axis=1)\n",
    "\n",
    "data = dataset.iloc[:, 1:]\n",
    "target = dataset.iloc[:, :1]\n",
    "normalized_data = (data-data.min())/(data.max()-data.min())\n",
    "\n",
    "from sklearn.cross_validation import train_test_split\n",
    "x_train, x_test, y_train, y_test = train_test_split(normalized_data, target, test_size=0.05, random_state=42)\n",
    "\n",
    "clf = RandomForestClassifier(n_estimators=100)\n",
    "clf.fit(x_train,y_train)\n",
    "\n",
    "from sklearn.metrics import accuracy_score, classification_report\n",
    "y_predicted = clf.predict(x_test)\n",
    "print \"Accuracy = {} %\".format(accuracy_score(y_test, y_predicted)*100)\n",
    "print \"Classification Report \\n {}\".format(classification_report(y_test, y_predicted, labels=dataset.Class.unique()))"
   ]
  },
  {
   "cell_type": "code",
   "execution_count": 31,
   "metadata": {},
   "outputs": [
    {
     "name": "stdout",
     "output_type": "stream",
     "text": [
      "Accuracy = 100.0 %\n",
      "Classification Report \n",
      "              precision    recall  f1-score   support\n",
      "\n",
      "        car       1.00      1.00      1.00         2\n",
      "        fad       0.00      0.00      0.00         0\n",
      "        mas       0.00      0.00      0.00         0\n",
      "        gla       1.00      1.00      1.00         1\n",
      "        con       1.00      1.00      1.00         1\n",
      "        adi       1.00      1.00      1.00         2\n",
      "\n",
      "avg / total       1.00      1.00      1.00         6\n",
      "\n"
     ]
    }
   ],
   "source": [
    "import numpy as np\n",
    "import pandas as pd\n",
    "from sklearn.ensemble import AdaBoostClassifier\n",
    "\n",
    "dataset = pd.read_excel('./BreastTissue.xls','Data')\n",
    "dataset.drop(dataset.columns[0],inplace=True,axis=1)\n",
    "\n",
    "data = dataset.iloc[:, 1:]\n",
    "target = dataset.iloc[:, :1]\n",
    "normalized_data = (data-data.min())/(data.max()-data.min())\n",
    "\n",
    "from sklearn.cross_validation import train_test_split\n",
    "x_train, x_test, y_train, y_test = train_test_split(normalized_data, target, test_size=0.05, random_state=42)\n",
    "\n",
    "clf = AdaBoostClassifier(n_estimators=100)\n",
    "clf.fit(x_train,y_train)\n",
    "\n",
    "from sklearn.metrics import accuracy_score, classification_report\n",
    "y_predicted = clf.predict(x_test)\n",
    "print \"Accuracy = {} %\".format(accuracy_score(y_test, y_predicted)*100)\n",
    "print \"Classification Report \\n {}\".format(classification_report(y_test, y_predicted, labels=dataset.Class.unique()))"
   ]
  },
  {
   "cell_type": "code",
   "execution_count": null,
   "metadata": {
    "collapsed": true
   },
   "outputs": [],
   "source": []
  }
 ],
 "metadata": {
  "kernelspec": {
   "display_name": "Python 2",
   "language": "python",
   "name": "python2"
  },
  "language_info": {
   "codemirror_mode": {
    "name": "ipython",
    "version": 2
   },
   "file_extension": ".py",
   "mimetype": "text/x-python",
   "name": "python",
   "nbconvert_exporter": "python",
   "pygments_lexer": "ipython2",
   "version": "2.7.14"
  }
 },
 "nbformat": 4,
 "nbformat_minor": 2
}
